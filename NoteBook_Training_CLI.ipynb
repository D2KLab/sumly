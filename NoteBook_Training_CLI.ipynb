{
  "nbformat": 4,
  "nbformat_minor": 0,
  "metadata": {
    "colab": {
      "name": "NoteBook_Training_CLI.ipynb",
      "provenance": [],
      "collapsed_sections": [],
      "include_colab_link": true
    },
    "kernelspec": {
      "name": "python3",
      "display_name": "Python 3"
    },
    "accelerator": "GPU"
  },
  "cells": [
    {
      "cell_type": "markdown",
      "metadata": {
        "id": "view-in-github",
        "colab_type": "text"
      },
      "source": [
        "<a href=\"https://colab.research.google.com/github/D2KLab/sumly/blob/main/NoteBook_Training_CLI.ipynb\" target=\"_parent\"><img src=\"https://colab.research.google.com/assets/colab-badge.svg\" alt=\"Open In Colab\"/></a>"
      ]
    },
    {
      "cell_type": "code",
      "metadata": {
        "id": "m9b4U8oG53gu"
      },
      "source": [
        "# !git clone https://github.com/D2KLab/sumly.git\n",
        "!pip install jsonlines\n",
        "from google.colab import drive\n",
        "import sys\n",
        "drive.mount('/content/drive')"
      ],
      "execution_count": null,
      "outputs": []
    },
    {
      "cell_type": "code",
      "metadata": {
        "id": "Pf9pxWMejzvA",
        "colab": {
          "base_uri": "https://localhost:8080/"
        },
        "outputId": "cf75d94f-ee33-484e-b231-7db62798d61a"
      },
      "source": [
        "from google.colab import drive\n",
        "drive.mount('/content/drive')"
      ],
      "execution_count": 2,
      "outputs": [
        {
          "output_type": "stream",
          "text": [
            "Mounted at /content/drive\n"
          ],
          "name": "stdout"
        }
      ]
    },
    {
      "cell_type": "code",
      "metadata": {
        "id": "3Un-iX17j2ik"
      },
      "source": [
        "%ls"
      ],
      "execution_count": null,
      "outputs": []
    },
    {
      "cell_type": "code",
      "metadata": {
        "id": "-wwg5gacj55e",
        "colab": {
          "base_uri": "https://localhost:8080/"
        },
        "outputId": "1512bd77-9b1e-4a5f-f61e-a674000911bd"
      },
      "source": [
        " cd /content/drive/My Drive/Dataset"
      ],
      "execution_count": 3,
      "outputs": [
        {
          "output_type": "stream",
          "text": [
            "/content/drive/My Drive/Dataset\n"
          ],
          "name": "stdout"
        }
      ]
    },
    {
      "cell_type": "code",
      "metadata": {
        "id": "qGC_0ljmIYNm"
      },
      "source": [
        "import os\n",
        "os.chdir(\"/content/drive/My Drive/Dataset\")\n"
      ],
      "execution_count": 5,
      "outputs": []
    },
    {
      "cell_type": "code",
      "metadata": {
        "id": "upqKKhwa6oT3"
      },
      "source": [
        "#import training\n",
        "import argparse\n",
        "\n",
        "FILES = '/content/drive/My Drive/Dataset/'\n",
        "\n",
        "args = argparse.Namespace()\n",
        "\n",
        "args.data_path = FILES + 'notes.ndjson'\n",
        "args.vocab = FILES + 'vocab.csv'\n",
        "args.Y = 'full'\n",
        "# args.model = 'conv_dilated'\n",
        "args.dims = [300,125,125,125,125,125]\n",
        "args.n_epochs = 100\n",
        "args.embed_file = FILES + 'glove.840B.300d.txt'\n",
        "args.embed_file2 = FILES + 'GoogleNews-vectors-negative300.bin'\n",
        "args.embed= \"stack\"\n",
        "args.embed_freeze = False\n",
        "args.embed_normalize = False\n",
        "args.shuffle = False\n",
        "args.filter_size = 3\n",
        "args.dilation = [1, 2, 4, 8 , 16]\n",
        "args.weight_decay = 0\n",
        "args.lr = 0.001\n",
        "args.batch_size = 8\n",
        "args.dropout = [0.2, 0.2, 0.2 , 0.2, 0.2]\n",
        "args.test_model = None\n",
        "args.resume = None\n",
        "args.models_dir = '/content/drive/My Drive/saved_models'\n",
        "args.data_dir = '/content/drive/My Drive/data'\n",
        "args.criterion = 'f1_micro_fine'\n",
        "args.patience = 5\n",
        "args.gpu = True\n",
        "args.max_len = 5000\n",
        "args.hier = False\n",
        "args.embed_desc = True\n",
        "args.exclude_non_billable = False\n",
        "args.include_invalid = False\n",
        "args.layer_norm = True"
      ],
      "execution_count": null,
      "outputs": []
    },
    {
      "cell_type": "code",
      "metadata": {
        "id": "QwT9oewoJI14",
        "colab": {
          "base_uri": "https://localhost:8080/",
          "height": 165
        },
        "outputId": "7bf6bf61-5257-4fbc-835c-95ae67b3798d"
      },
      "source": [
        "#_ = training.main(args)"
      ],
      "execution_count": null,
      "outputs": [
        {
          "output_type": "error",
          "ename": "NameError",
          "evalue": "ignored",
          "traceback": [
            "\u001b[0;31m---------------------------------------------------------------------------\u001b[0m",
            "\u001b[0;31mNameError\u001b[0m                                 Traceback (most recent call last)",
            "\u001b[0;32m<ipython-input-1-07bac4a8b491>\u001b[0m in \u001b[0;36m<module>\u001b[0;34m()\u001b[0m\n\u001b[0;32m----> 1\u001b[0;31m \u001b[0m_\u001b[0m \u001b[0;34m=\u001b[0m \u001b[0mtraining\u001b[0m\u001b[0;34m.\u001b[0m\u001b[0mmain\u001b[0m\u001b[0;34m(\u001b[0m\u001b[0margs\u001b[0m\u001b[0;34m)\u001b[0m\u001b[0;34m\u001b[0m\u001b[0;34m\u001b[0m\u001b[0m\n\u001b[0m",
            "\u001b[0;31mNameError\u001b[0m: name 'training' is not defined"
          ]
        }
      ]
    },
    {
      "cell_type": "code",
      "metadata": {
        "id": "Eut3bsqubjr-"
      },
      "source": [
        "!python main.py test.txt test1.txt"
      ],
      "execution_count": null,
      "outputs": []
    }
  ]
}